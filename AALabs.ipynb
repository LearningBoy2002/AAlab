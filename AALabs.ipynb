{
  "nbformat": 4,
  "nbformat_minor": 0,
  "metadata": {
    "colab": {
      "provenance": []
    },
    "kernelspec": {
      "name": "python3",
      "display_name": "Python 3"
    },
    "language_info": {
      "name": "python"
    }
  },
  "cells": [
    {
      "cell_type": "code",
      "execution_count": null,
      "metadata": {
        "colab": {
          "base_uri": "https://localhost:8080/"
        },
        "id": "9_86LFrkLOi4",
        "outputId": "d4b8b65b-b174-4e9e-8b8a-d75a3b1b710b"
      },
      "outputs": [
        {
          "output_type": "stream",
          "name": "stdout",
          "text": [
            "[1, 3, 5, 5, 6]\n"
          ]
        }
      ],
      "source": [
        "def merge_sort(arr):\n",
        "    if len(arr) <= 1:\n",
        "        return arr\n",
        "\n",
        "    mid = len(arr) // 2\n",
        "    left = arr[:mid]\n",
        "    right = arr[mid:]\n",
        "\n",
        "    left = merge_sort(left)\n",
        "    right = merge_sort(right)\n",
        "\n",
        "    return merge(left, right)\n",
        "\n",
        "def merge(left, right):\n",
        "    result = []\n",
        "    i = j = 0\n",
        "\n",
        "    while i < len(left) and j < len(right):\n",
        "        if left[i] < right[j]:\n",
        "            result.append(left[i])\n",
        "            i += 1\n",
        "        else:\n",
        "            result.append(right[j])\n",
        "            j += 1\n",
        "\n",
        "    result.extend(left[i:])\n",
        "    result.extend(right[j:])\n",
        "\n",
        "    return result\n",
        "\n",
        "print(merge_sort([3,5,1,5,6]))"
      ]
    },
    {
      "cell_type": "code",
      "source": [
        "def quick_sort(arr):\n",
        "    if len(arr) <= 1:\n",
        "        return arr\n",
        "\n",
        "    pivot = arr[len(arr) // 2]\n",
        "    left = [x for x in arr if x < pivot]\n",
        "    middle = [x for x in arr if x == pivot]\n",
        "    right = [x for x in arr if x > pivot]\n",
        "\n",
        "    return quick_sort(left) + middle + quick_sort(right)\n",
        "\n",
        "print(quick_sort([7,9,1,5,4,4]))\n"
      ],
      "metadata": {
        "colab": {
          "base_uri": "https://localhost:8080/"
        },
        "id": "QE2JZfgyMjJS",
        "outputId": "11dd88ce-38b3-42ef-b7bf-b936839e52ba"
      },
      "execution_count": null,
      "outputs": [
        {
          "output_type": "stream",
          "name": "stdout",
          "text": [
            "[1, 4, 4, 5, 7, 9]\n"
          ]
        }
      ]
    },
    {
      "cell_type": "code",
      "source": [
        "def find_pair_in_sorted_array_O_n_square(arr, X):\n",
        "    for i in range(len(arr)):\n",
        "        complement = X - arr[i]\n",
        "        for j in range(i + 1, len(arr)):\n",
        "            if arr[j] == complement:\n",
        "                return (arr[i], arr[j])\n",
        "    return None\n",
        "\n",
        "# Example array\n",
        "arr = [1, 3, 4, 7, 9, 11]\n",
        "X = 11\n",
        "\n",
        "# Call the function\n",
        "result = find_pair_in_sorted_array_O_n_square(arr, X)\n",
        "print(\"Pair found:\", result)\n"
      ],
      "metadata": {
        "colab": {
          "base_uri": "https://localhost:8080/"
        },
        "id": "wGtDL8EPNM7-",
        "outputId": "a989d7f3-496f-49bc-eab0-dd931886bc94"
      },
      "execution_count": null,
      "outputs": [
        {
          "output_type": "stream",
          "name": "stdout",
          "text": [
            "Pair found: (4, 7)\n"
          ]
        }
      ]
    },
    {
      "cell_type": "code",
      "source": [
        "def find_pair_in_sorted_array_O_n(arr, X):\n",
        "    complements = {}\n",
        "    for i, num in enumerate(arr):\n",
        "        complement = X - num\n",
        "        if complement in complements:\n",
        "            return (num, complement)\n",
        "        complements[num] = i\n",
        "    return None\n",
        "\n",
        "# Example array\n",
        "arr = [1, 3, 4, 7, 9, 11]\n",
        "X = 10\n",
        "\n",
        "# Call the function\n",
        "result = find_pair_in_sorted_array_O_n(arr, X)\n",
        "print(\"Pair found:\", result)\n"
      ],
      "metadata": {
        "colab": {
          "base_uri": "https://localhost:8080/"
        },
        "id": "-k7XnqUxU9VK",
        "outputId": "4289894d-1707-4419-e901-4c85bbca84ed"
      },
      "execution_count": null,
      "outputs": [
        {
          "output_type": "stream",
          "name": "stdout",
          "text": [
            "Pair found: (7, 3)\n"
          ]
        }
      ]
    },
    {
      "cell_type": "code",
      "source": [
        "def count_occurrences_in_sorted_array_O_n(arr, x):\n",
        "    count = 0\n",
        "    for num in arr:\n",
        "        if num == x:\n",
        "            count += 1\n",
        "    return count\n",
        "\n",
        "# Example array\n",
        "arr = [1, 2, 2, 2, 3, 3, 4, 4, 5, 6]\n",
        "x = 2\n",
        "\n",
        "# Call the function\n",
        "result = count_occurrences_in_sorted_array_O_n(arr, x)\n",
        "print(\"Occurrences of\", x, \"in the array:\", result)\n"
      ],
      "metadata": {
        "colab": {
          "base_uri": "https://localhost:8080/"
        },
        "id": "N9Fc1t_RV_5l",
        "outputId": "68bed5bc-0922-4436-a436-ab7bf4671c8c"
      },
      "execution_count": null,
      "outputs": [
        {
          "output_type": "stream",
          "name": "stdout",
          "text": [
            "Occurrences of 2 in the array: 3\n"
          ]
        }
      ]
    },
    {
      "cell_type": "code",
      "source": [
        "def count_occurrences_in_sorted_array_O_log_n(arr, x):\n",
        "    def binary_search(arr, low, high, target):\n",
        "        if low > high:\n",
        "            return -1\n",
        "        mid = (low + high) // 2\n",
        "        if arr[mid] == target:\n",
        "            return mid\n",
        "        elif arr[mid] < target:\n",
        "            return binary_search(arr, mid + 1, high, target)\n",
        "        else:\n",
        "            return binary_search(arr, low, mid - 1, target)\n",
        "\n",
        "    first_occurrence = binary_search(arr, 0, len(arr) - 1, x)\n",
        "    if first_occurrence == -1:\n",
        "        return 0\n",
        "\n",
        "    count = 1\n",
        "    left = first_occurrence - 1\n",
        "    while left >= 0 and arr[left] == x:\n",
        "        count += 1\n",
        "        left -= 1\n",
        "\n",
        "    right = first_occurrence + 1\n",
        "    while right < len(arr) and arr[right] == x:\n",
        "        count += 1\n",
        "        right += 1\n",
        "\n",
        "    return count\n",
        "\n",
        "# Example array\n",
        "arr = [1, 2, 2, 2, 2, 2, 3, 3, 4, 4, 5, 6]\n",
        "x = 2\n",
        "\n",
        "# Call the function\n",
        "result = count_occurrences_in_sorted_array_O_log_n(arr, x)\n",
        "print(\"Occurrences of\", x, \"in the array:\", result)"
      ],
      "metadata": {
        "colab": {
          "base_uri": "https://localhost:8080/"
        },
        "id": "J831PV5vbNwQ",
        "outputId": "64b72d2e-5374-4fe9-c081-dcba65725243"
      },
      "execution_count": null,
      "outputs": [
        {
          "output_type": "stream",
          "name": "stdout",
          "text": [
            "Occurrences of 2 in the array: 5\n"
          ]
        }
      ]
    },
    {
      "cell_type": "code",
      "source": [
        "def binary_search(arr, low, high, target):\n",
        "    if low > high:\n",
        "        return -1\n",
        "    mid = (low + high) // 2\n",
        "    if arr[mid] == target:\n",
        "        return mid\n",
        "    elif arr[mid] < target:\n",
        "        return binary_search(arr, mid + 1, high, target)\n",
        "    else:\n",
        "        return binary_search(arr, low, mid - 1, target)\n",
        "\n",
        "# Example array (sorted)\n",
        "arr = [1, 2, 3, 4, 5, 6, 7, 8, 9]\n",
        "target = 5\n",
        "\n",
        "# Perform binary search\n",
        "result_index = binary_search(arr, 0, len(arr) - 1, target)\n",
        "\n",
        "# Display the result\n",
        "if result_index != -1:\n",
        "    print(\"Target\", target, \"found at index:\", result_index)\n",
        "else:\n",
        "    print(\"Target\", target, \"not found in the array.\")\n"
      ],
      "metadata": {
        "colab": {
          "base_uri": "https://localhost:8080/"
        },
        "id": "nFnUGbgCbN5_",
        "outputId": "77d61148-86f2-45d4-974f-80d157fed040"
      },
      "execution_count": null,
      "outputs": [
        {
          "output_type": "stream",
          "name": "stdout",
          "text": [
            "Target 5 found at index: 4\n"
          ]
        }
      ]
    },
    {
      "cell_type": "code",
      "source": [
        "def fractional_knapsack(capacity, items):\n",
        "    items.sort(key=lambda x: x[1] / x[0], reverse=True)\n",
        "    total_value = 0\n",
        "    for item in items:\n",
        "        if capacity >= item[0]:\n",
        "            capacity -= item[0]\n",
        "            total_value += item[1]\n",
        "        else:\n",
        "            total_value += capacity * (item[1] / item[0])\n",
        "            break\n",
        "    return total_value\n",
        "\n",
        "# Example items: Each item is represented by a tuple (weight, value)\n",
        "items = [(10, 60), (20, 100), (30, 120)]\n",
        "capacity = 60\n",
        "\n",
        "# Calculate the maximum value\n",
        "max_value = fractional_knapsack(capacity, items)\n",
        "print(\"Maximum value:\", max_value)\n"
      ],
      "metadata": {
        "colab": {
          "base_uri": "https://localhost:8080/"
        },
        "id": "oyEKvAVTmcPz",
        "outputId": "dbdafafb-c348-4b57-b453-4f5c5ed59fd1"
      },
      "execution_count": null,
      "outputs": [
        {
          "output_type": "stream",
          "name": "stdout",
          "text": [
            "Maximum value: 280\n"
          ]
        }
      ]
    },
    {
      "cell_type": "code",
      "source": [
        "def find_min_max(arr, low, high):\n",
        "    if low == high:\n",
        "        return (arr[low], arr[low])\n",
        "\n",
        "    mid = (low + high) // 2\n",
        "    left_min, left_max = find_min_max(arr, low, mid)\n",
        "    right_min, right_max = find_min_max(arr, mid + 1, high)\n",
        "\n",
        "    return (min(left_min, right_min), max(left_max, right_max))\n",
        "\n",
        "# Example array\n",
        "arr = [3, 1, 8, 4, 7, 9, 2, 5]\n",
        "low = 0\n",
        "high = len(arr) - 1\n",
        "\n",
        "# Find minimum and maximum\n",
        "min_val, max_val = find_min_max(arr, low, high)\n",
        "\n",
        "# Print the results\n",
        "print(\"Minimum value:\", min_val)\n",
        "print(\"Maximum value:\", max_val)\n"
      ],
      "metadata": {
        "colab": {
          "base_uri": "https://localhost:8080/"
        },
        "id": "0An8ZKEF5P6G",
        "outputId": "a5e8627a-b0d3-47bf-cd5d-5aaa35a7d3f6"
      },
      "execution_count": null,
      "outputs": [
        {
          "output_type": "stream",
          "name": "stdout",
          "text": [
            "Minimum value: 1\n",
            "Maximum value: 9\n"
          ]
        }
      ]
    },
    {
      "cell_type": "code",
      "source": [
        "def job_sequencing(jobs):\n",
        "    jobs.sort(key=lambda x: x[2], reverse=True)\n",
        "    slots = [None] * (max(jobs, key=lambda x: x[1])[1] + 1)\n",
        "    total_profit = 0\n",
        "    for job in jobs:\n",
        "        for i in range(job[1], 0, -1):\n",
        "            if slots[i] is None:\n",
        "                slots[i] = job\n",
        "                total_profit += job[2]\n",
        "                break\n",
        "    return total_profit\n",
        "\n",
        "\n",
        "# Example jobs: Each job is represented as a tuple (job_id, deadline, profit)\n",
        "jobs = [(1, 4, 20), (2, 1, 10), (3, 1, 40), (4, 1, 30)]\n",
        "# Call the function\n",
        "max_profit = job_sequencing(jobs)\n",
        "print(\"Maximum profit:\", max_profit)\n"
      ],
      "metadata": {
        "colab": {
          "base_uri": "https://localhost:8080/"
        },
        "id": "6W-Tu0LV5hhq",
        "outputId": "4f4dc9d8-7d8b-479c-e0e6-f832b8ae8027"
      },
      "execution_count": null,
      "outputs": [
        {
          "output_type": "stream",
          "name": "stdout",
          "text": [
            "Maximum profit: 60\n"
          ]
        }
      ]
    },
    {
      "cell_type": "code",
      "source": [
        "import numpy as np\n",
        "\n",
        "def strassen(a, b):\n",
        "    n = len(a)\n",
        "    if n == 1:\n",
        "        return np.array([[a[0][0] * b[0][0]]])\n",
        "\n",
        "    # pad matrices with zeros to make them even-dimensional\n",
        "    if n % 2 != 0:\n",
        "        a_pad = np.pad(a, ((0, 1), (0, 1)), mode='constant')\n",
        "        b_pad = np.pad(b, ((0, 1), (0, 1)), mode='constant')\n",
        "    else:\n",
        "        a_pad = a\n",
        "        b_pad = b\n",
        "\n",
        "    # divide matrices into 4 submatrices\n",
        "    half_n = n // 2\n",
        "    a11 = a_pad[:half_n, :half_n]\n",
        "    a12 = a_pad[:half_n, half_n:]\n",
        "    a21 = a_pad[half_n:, :half_n]\n",
        "    a22 = a_pad[half_n:, half_n:]\n",
        "    b11 = b_pad[:half_n, :half_n]\n",
        "    b12 = b_pad[:half_n, half_n:]\n",
        "    b21 = b_pad[half_n:, :half_n]\n",
        "    b22 = b_pad[half_n:, half_n:]\n",
        "\n",
        "    # compute submatrices of Strassen's matrix C = A * B\n",
        "    p1 = strassen(a11, b12 - b22)\n",
        "    p2 = strassen(a11 + a12, b22)\n",
        "    p3 = strassen(a21 + a22, b11)\n",
        "    p4 = strassen(a22, b21 - b11)\n",
        "    p5 = strassen(a11 + a22, b11 + b22)\n",
        "    p6 = strassen(a12 - a22, b21 + b22)\n",
        "    p7 = strassen(a11 - a21, b11 + b12)\n",
        "\n",
        "    # combine submatrices to get final result\n",
        "    c11 = p5 + p4 - p2 + p6\n",
        "    c12 = p1 + p2\n",
        "    c21 = p3 + p4\n",
        "    c22 = p1 + p5 - p3 - p7\n",
        "\n",
        "    # remove extra rows and columns from result\n",
        "    if n % 2 != 0:\n",
        "        return np.vstack((np.hstack((c11, c12)), np.hstack((c21, c22))))[:-1, :-1]\n",
        "    else:\n",
        "        return np.vstack((np.hstack((c11, c12)), np.hstack((c21, c22))))\n",
        "\n",
        "# Example matrices\n",
        "A = np.array([[1, 2], [3, 4]])\n",
        "B = np.array([[5, 6], [7, 8]])\n",
        "\n",
        "# Compute the product using Strassen's algorithm\n",
        "C = strassen(A, B)\n",
        "print(\"Result of matrix multiplication using Strassen's algorithm:\")\n",
        "print(C)\n"
      ],
      "metadata": {
        "colab": {
          "base_uri": "https://localhost:8080/"
        },
        "id": "yWtw-YbQ53ma",
        "outputId": "b81a891d-7884-4c95-88a7-ca1e761a423e"
      },
      "execution_count": null,
      "outputs": [
        {
          "output_type": "stream",
          "name": "stdout",
          "text": [
            "Result of matrix multiplication using Strassen's algorithm:\n",
            "[[19 22]\n",
            " [43 50]]\n"
          ]
        }
      ]
    },
    {
      "cell_type": "code",
      "source": [
        "def calculate_lps(pat):\n",
        "    lps = [0] * len(pat)\n",
        "    j = 0\n",
        "    i = 1\n",
        "    while i < len(pat):\n",
        "        if pat[i] == pat[j]:\n",
        "            lps[i] = j + 1\n",
        "            i += 1\n",
        "            j += 1\n",
        "        elif j > 0:\n",
        "            j = lps[j - 1]\n",
        "        else:\n",
        "            i += 1\n",
        "    return lps\n",
        "\n",
        "def KMP_search(pat, text):\n",
        "    lps = calculate_lps(pat)\n",
        "    i = 0\n",
        "    j = 0\n",
        "    m = len(pat)\n",
        "    n = len(text)\n",
        "    while i < n:\n",
        "        if text[i] == pat[j]:\n",
        "            i += 1\n",
        "            j += 1\n",
        "            if j == m:\n",
        "                print(\"Pattern found at index\", i - j)\n",
        "                j = lps[j - 1]\n",
        "        elif j > 0:\n",
        "            j = lps[j - 1]\n",
        "        else:\n",
        "            i += 1\n",
        "\n",
        "# Example usage\n",
        "text = \"ABABDABACDABABCABAB\"\n",
        "pattern = \"ABABCABAB\"\n",
        "KMP_search(pattern, text)\n"
      ],
      "metadata": {
        "colab": {
          "base_uri": "https://localhost:8080/"
        },
        "id": "eCVHAWXm6DjH",
        "outputId": "9a31eb7b-55c7-43e9-9f3e-0f8d54728d96"
      },
      "execution_count": null,
      "outputs": [
        {
          "output_type": "stream",
          "name": "stdout",
          "text": [
            "Pattern found at index 10\n"
          ]
        }
      ]
    },
    {
      "cell_type": "code",
      "source": [
        "memo = [[-1]*(1 << (n+1)) for _ in range(n+1)]\n",
        "\n",
        "\n",
        "def fun(i, mask):\n",
        "\n",
        "\tif mask == ((1 << i) | 3):\n",
        "\t\treturn dist[1][i]\n",
        "\n",
        "\tif memo[i][mask] != -1:\n",
        "\t\treturn memo[i][mask]\n",
        "\n",
        "\tres = 10**9\n",
        "\tfor j in range(1, n+1):\n",
        "\t\tif (mask & (1 << j)) != 0 and j != i and j != 1:\n",
        "\t\t\tres = min(res, fun(j, mask & (~(1 << i))) + dist[j][i])\n",
        "\tmemo[i][mask] = res\n",
        "\treturn res\n",
        "ans = 10**9\n",
        "for i in range(1, n+1):\n",
        "\tans = min(ans, fun(i, (1 << (n+1))-1) + dist[i][1])\n",
        "\n",
        "print(\"The cost of most efficient tour = \" + str(ans))"
      ],
      "metadata": {
        "colab": {
          "base_uri": "https://localhost:8080/",
          "height": 211
        },
        "id": "ytNrV0pz6jcH",
        "outputId": "70fa55ea-197b-4e75-941c-2daefc392de9"
      },
      "execution_count": null,
      "outputs": [
        {
          "output_type": "error",
          "ename": "NameError",
          "evalue": "name 'n' is not defined",
          "traceback": [
            "\u001b[0;31m---------------------------------------------------------------------------\u001b[0m",
            "\u001b[0;31mNameError\u001b[0m                                 Traceback (most recent call last)",
            "\u001b[0;32m<ipython-input-8-7e9d129422f8>\u001b[0m in \u001b[0;36m<cell line: 1>\u001b[0;34m()\u001b[0m\n\u001b[0;32m----> 1\u001b[0;31m \u001b[0mmemo\u001b[0m \u001b[0;34m=\u001b[0m \u001b[0;34m[\u001b[0m\u001b[0;34m[\u001b[0m\u001b[0;34m-\u001b[0m\u001b[0;36m1\u001b[0m\u001b[0;34m]\u001b[0m\u001b[0;34m*\u001b[0m\u001b[0;34m(\u001b[0m\u001b[0;36m1\u001b[0m \u001b[0;34m<<\u001b[0m \u001b[0;34m(\u001b[0m\u001b[0mn\u001b[0m\u001b[0;34m+\u001b[0m\u001b[0;36m1\u001b[0m\u001b[0;34m)\u001b[0m\u001b[0;34m)\u001b[0m \u001b[0;32mfor\u001b[0m \u001b[0m_\u001b[0m \u001b[0;32min\u001b[0m \u001b[0mrange\u001b[0m\u001b[0;34m(\u001b[0m\u001b[0mn\u001b[0m\u001b[0;34m+\u001b[0m\u001b[0;36m1\u001b[0m\u001b[0;34m)\u001b[0m\u001b[0;34m]\u001b[0m\u001b[0;34m\u001b[0m\u001b[0;34m\u001b[0m\u001b[0m\n\u001b[0m\u001b[1;32m      2\u001b[0m \u001b[0;34m\u001b[0m\u001b[0m\n\u001b[1;32m      3\u001b[0m \u001b[0;34m\u001b[0m\u001b[0m\n\u001b[1;32m      4\u001b[0m \u001b[0;32mdef\u001b[0m \u001b[0mfun\u001b[0m\u001b[0;34m(\u001b[0m\u001b[0mi\u001b[0m\u001b[0;34m,\u001b[0m \u001b[0mmask\u001b[0m\u001b[0;34m)\u001b[0m\u001b[0;34m:\u001b[0m\u001b[0;34m\u001b[0m\u001b[0;34m\u001b[0m\u001b[0m\n\u001b[1;32m      5\u001b[0m \u001b[0;34m\u001b[0m\u001b[0m\n",
            "\u001b[0;31mNameError\u001b[0m: name 'n' is not defined"
          ]
        }
      ]
    }
  ]
}